{
 "cells": [
  {
   "cell_type": "code",
   "execution_count": 2,
   "id": "controlling-bryan",
   "metadata": {},
   "outputs": [
    {
     "name": "stdout",
     "output_type": "stream",
     "text": [
      "3.34 s ± 194 ms per loop (mean ± std. dev. of 7 runs, 1 loop each)\n"
     ]
    }
   ],
   "source": [
    "import math \n",
    "loops = 2500000\n",
    "a = range(1, loops)\n",
    "\n",
    "def f(x):\n",
    "    return 3 * math.log(x) + math.cos(x) ** 2\n",
    "\n",
    "%timeit [f(x) for x in a ]"
   ]
  },
  {
   "cell_type": "code",
   "execution_count": 4,
   "id": "selective-finance",
   "metadata": {},
   "outputs": [
    {
     "name": "stdout",
     "output_type": "stream",
     "text": [
      "185 ms ± 17.2 ms per loop (mean ± std. dev. of 7 runs, 10 loops each)\n"
     ]
    }
   ],
   "source": [
    "import numpy as np\n",
    "a = np.arange(1, loops)\n",
    "\n",
    "%timeit 3 * np.log(a) + np.cos(a) ** 2"
   ]
  },
  {
   "cell_type": "code",
   "execution_count": 5,
   "id": "reverse-stationery",
   "metadata": {},
   "outputs": [
    {
     "name": "stdout",
     "output_type": "stream",
     "text": [
      "156 ms ± 17 ms per loop (mean ± std. dev. of 7 runs, 10 loops each)\n"
     ]
    }
   ],
   "source": [
    "import numexpr as ne\n",
    "ne.set_num_threads(1)\n",
    "\n",
    "f = '3 * log(a) + cos(a) ** 2'\n",
    "%timeit ne.evaluate(f)"
   ]
  },
  {
   "cell_type": "code",
   "execution_count": 6,
   "id": "absolute-scheme",
   "metadata": {},
   "outputs": [
    {
     "name": "stdout",
     "output_type": "stream",
     "text": [
      "41.6 ms ± 2.42 ms per loop (mean ± std. dev. of 7 runs, 10 loops each)\n"
     ]
    }
   ],
   "source": [
    "ne.set_num_threads(4)\n",
    "%timeit ne.evaluate(f)"
   ]
  },
  {
   "cell_type": "code",
   "execution_count": null,
   "id": "referenced-dryer",
   "metadata": {},
   "outputs": [],
   "source": []
  }
 ],
 "metadata": {
  "kernelspec": {
   "display_name": "Python 3",
   "language": "python",
   "name": "python3"
  },
  "language_info": {
   "codemirror_mode": {
    "name": "ipython",
    "version": 3
   },
   "file_extension": ".py",
   "mimetype": "text/x-python",
   "name": "python",
   "nbconvert_exporter": "python",
   "pygments_lexer": "ipython3",
   "version": "3.8.6"
  }
 },
 "nbformat": 4,
 "nbformat_minor": 5
}
