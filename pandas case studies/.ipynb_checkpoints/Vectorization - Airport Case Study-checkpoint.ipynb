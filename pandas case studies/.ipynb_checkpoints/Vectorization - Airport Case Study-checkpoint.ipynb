{
 "cells": [
  {
   "cell_type": "code",
   "execution_count": 26,
   "id": "exact-chance",
   "metadata": {},
   "outputs": [
    {
     "data": {
      "text/html": [
       "<div>\n",
       "<style scoped>\n",
       "    .dataframe tbody tr th:only-of-type {\n",
       "        vertical-align: middle;\n",
       "    }\n",
       "\n",
       "    .dataframe tbody tr th {\n",
       "        vertical-align: top;\n",
       "    }\n",
       "\n",
       "    .dataframe thead th {\n",
       "        text-align: right;\n",
       "    }\n",
       "</style>\n",
       "<table border=\"1\" class=\"dataframe\">\n",
       "  <thead>\n",
       "    <tr style=\"text-align: right;\">\n",
       "      <th></th>\n",
       "      <th>LATITUDE</th>\n",
       "      <th>LONGITUDE</th>\n",
       "    </tr>\n",
       "    <tr>\n",
       "      <th>AIRPORT</th>\n",
       "      <th></th>\n",
       "      <th></th>\n",
       "    </tr>\n",
       "  </thead>\n",
       "  <tbody>\n",
       "    <tr>\n",
       "      <th>2CA</th>\n",
       "      <td>35.745556</td>\n",
       "      <td>-119.236389</td>\n",
       "    </tr>\n",
       "    <tr>\n",
       "      <th>8F3</th>\n",
       "      <td>33.623889</td>\n",
       "      <td>-101.240833</td>\n",
       "    </tr>\n",
       "    <tr>\n",
       "      <th>A08</th>\n",
       "      <td>56.598056</td>\n",
       "      <td>-134.242778</td>\n",
       "    </tr>\n",
       "    <tr>\n",
       "      <th>A15</th>\n",
       "      <td>70.718611</td>\n",
       "      <td>-154.388333</td>\n",
       "    </tr>\n",
       "    <tr>\n",
       "      <th>A27</th>\n",
       "      <td>64.440000</td>\n",
       "      <td>-144.936389</td>\n",
       "    </tr>\n",
       "  </tbody>\n",
       "</table>\n",
       "</div>"
      ],
      "text/plain": [
       "          LATITUDE   LONGITUDE\n",
       "AIRPORT                       \n",
       "2CA      35.745556 -119.236389\n",
       "8F3      33.623889 -101.240833\n",
       "A08      56.598056 -134.242778\n",
       "A15      70.718611 -154.388333\n",
       "A27      64.440000 -144.936389"
      ]
     },
     "execution_count": 26,
     "metadata": {},
     "output_type": "execute_result"
    }
   ],
   "source": [
    "import numpy as np\n",
    "import pandas as pd\n",
    "\n",
    "coord = (pd.read_csv('airports.dat', index_col=['AIRPORT'],\n",
    "                     usecols=['AIRPORT', 'LATITUDE', 'LONGITUDE'])\n",
    "         .groupby(level=0)\n",
    "         .first()\n",
    "         .dropna()\n",
    "         .sample(n=500, random_state=42)\n",
    "         .sort_index())\n",
    "\n",
    "coord.head()"
   ]
  },
  {
   "cell_type": "code",
   "execution_count": 27,
   "id": "least-yield",
   "metadata": {},
   "outputs": [
    {
     "data": {
      "text/html": [
       "<div>\n",
       "<style scoped>\n",
       "    .dataframe tbody tr th:only-of-type {\n",
       "        vertical-align: middle;\n",
       "    }\n",
       "\n",
       "    .dataframe tbody tr th {\n",
       "        vertical-align: top;\n",
       "    }\n",
       "\n",
       "    .dataframe thead th {\n",
       "        text-align: right;\n",
       "    }\n",
       "</style>\n",
       "<table border=\"1\" class=\"dataframe\">\n",
       "  <thead>\n",
       "    <tr style=\"text-align: right;\">\n",
       "      <th></th>\n",
       "      <th></th>\n",
       "      <th>LATITUDE_SRC</th>\n",
       "      <th>LONGITUDE_SRC</th>\n",
       "      <th>LATITUDE_DST</th>\n",
       "      <th>LONGITUDE_DST</th>\n",
       "    </tr>\n",
       "    <tr>\n",
       "      <th>origin</th>\n",
       "      <th>dest</th>\n",
       "      <th></th>\n",
       "      <th></th>\n",
       "      <th></th>\n",
       "      <th></th>\n",
       "    </tr>\n",
       "  </thead>\n",
       "  <tbody>\n",
       "    <tr>\n",
       "      <th rowspan=\"5\" valign=\"top\">2CA</th>\n",
       "      <th>2CA</th>\n",
       "      <td>35.745556</td>\n",
       "      <td>-119.236389</td>\n",
       "      <td>35.745556</td>\n",
       "      <td>-119.236389</td>\n",
       "    </tr>\n",
       "    <tr>\n",
       "      <th>8F3</th>\n",
       "      <td>35.745556</td>\n",
       "      <td>-119.236389</td>\n",
       "      <td>33.623889</td>\n",
       "      <td>-101.240833</td>\n",
       "    </tr>\n",
       "    <tr>\n",
       "      <th>A08</th>\n",
       "      <td>35.745556</td>\n",
       "      <td>-119.236389</td>\n",
       "      <td>56.598056</td>\n",
       "      <td>-134.242778</td>\n",
       "    </tr>\n",
       "    <tr>\n",
       "      <th>A15</th>\n",
       "      <td>35.745556</td>\n",
       "      <td>-119.236389</td>\n",
       "      <td>70.718611</td>\n",
       "      <td>-154.388333</td>\n",
       "    </tr>\n",
       "    <tr>\n",
       "      <th>A27</th>\n",
       "      <td>35.745556</td>\n",
       "      <td>-119.236389</td>\n",
       "      <td>64.440000</td>\n",
       "      <td>-144.936389</td>\n",
       "    </tr>\n",
       "  </tbody>\n",
       "</table>\n",
       "</div>"
      ],
      "text/plain": [
       "             LATITUDE_SRC  LONGITUDE_SRC  LATITUDE_DST  LONGITUDE_DST\n",
       "origin dest                                                          \n",
       "2CA    2CA      35.745556    -119.236389     35.745556    -119.236389\n",
       "       8F3      35.745556    -119.236389     33.623889    -101.240833\n",
       "       A08      35.745556    -119.236389     56.598056    -134.242778\n",
       "       A15      35.745556    -119.236389     70.718611    -154.388333\n",
       "       A27      35.745556    -119.236389     64.440000    -144.936389"
      ]
     },
     "execution_count": 27,
     "metadata": {},
     "output_type": "execute_result"
    }
   ],
   "source": [
    "idx = pd.MultiIndex.from_product([coord.index, coord.index], names=['origin', 'dest'])\n",
    "pairs = pd.concat([coord.add_suffix('_SRC').reindex(idx, level='origin'),\n",
    "                   coord.add_suffix('_DST').reindex(idx, level='dest')],\n",
    "                   axis=1)\n",
    "\n",
    "pairs.head()"
   ]
  },
  {
   "cell_type": "code",
   "execution_count": 28,
   "id": "entitled-bhutan",
   "metadata": {
    "scrolled": true
   },
   "outputs": [
    {
     "data": {
      "text/plain": [
       "MultiIndex([('2CA', '2CA'),\n",
       "            ('2CA', '8F3'),\n",
       "            ('2CA', 'A08'),\n",
       "            ('2CA', 'A15'),\n",
       "            ('2CA', 'A27'),\n",
       "            ('2CA', 'A56'),\n",
       "            ('2CA', 'A57'),\n",
       "            ('2CA', 'A66'),\n",
       "            ('2CA', 'A6K'),\n",
       "            ('2CA', 'A71'),\n",
       "            ...\n",
       "            ('ZMD', 'ZMD'),\n",
       "            ('ZMD', 'ZNC'),\n",
       "            ('ZMD', 'ZSL'),\n",
       "            ('ZMD', 'ZXO'),\n",
       "            ('ZNC', 'ZNC'),\n",
       "            ('ZNC', 'ZSL'),\n",
       "            ('ZNC', 'ZXO'),\n",
       "            ('ZSL', 'ZSL'),\n",
       "            ('ZSL', 'ZXO'),\n",
       "            ('ZXO', 'ZXO')],\n",
       "           names=['origin', 'dest'], length=125250)"
      ]
     },
     "execution_count": 28,
     "metadata": {},
     "output_type": "execute_result"
    }
   ],
   "source": [
    "idx = idx[idx.get_level_values(0) <= idx.get_level_values(1)]\n",
    "\n",
    "idx"
   ]
  },
  {
   "cell_type": "code",
   "execution_count": 29,
   "id": "dynamic-position",
   "metadata": {},
   "outputs": [],
   "source": [
    "import math\n",
    "\n",
    "def gcd_py(lat_src, lng_src, lat_dst, lng_dst):\n",
    "    earth_radius_km = 6373\n",
    "    degs_to_rads = math.pi/180.0\n",
    "    precision = 8 #dp\n",
    "    \n",
    "    theta_1 = (90-lat_src) * degs_to_rads\n",
    "    theta_2 = (90-lat_dst) * degs_to_rads\n",
    "    \n",
    "    omega_1 = lng_src * degs_to_rads\n",
    "    omega_2 = lng_dst * degs_to_rads\n",
    "    \n",
    "    cos = (math.sin(theta_1) * math.sin(theta_2) * \n",
    "           math.cos(omega_1 - omega_2) + \n",
    "           math.cos(theta_1) * math.cos(theta_2))\n",
    "    \n",
    "    cos = round(cos, precision)\n",
    "    arc = math.acos(cos)\n",
    "    \n",
    "    return arc * earth_radius_km"
   ]
  },
  {
   "cell_type": "code",
   "execution_count": 30,
   "id": "sudden-bottle",
   "metadata": {},
   "outputs": [
    {
     "name": "stdout",
     "output_type": "stream",
     "text": [
      "Wall time: 5.37 s\n"
     ]
    }
   ],
   "source": [
    "%%time\n",
    "r = pairs.apply(lambda x: gcd_py(x['LATITUDE_SRC'], x['LONGITUDE_SRC'], \n",
    "                                 x['LATITUDE_DST'], x['LATITUDE_DST']), axis=1)"
   ]
  },
  {
   "cell_type": "code",
   "execution_count": 31,
   "id": "fixed-cutting",
   "metadata": {},
   "outputs": [
    {
     "data": {
      "text/plain": [
       "origin  dest\n",
       "2CA     2CA     11658.209986\n",
       "        8F3     11805.567309\n",
       "        A08      9742.476890\n",
       "        A15      8152.546542\n",
       "        A27      8873.080964\n",
       "dtype: float64"
      ]
     },
     "execution_count": 31,
     "metadata": {},
     "output_type": "execute_result"
    }
   ],
   "source": [
    "r.head()"
   ]
  },
  {
   "cell_type": "code",
   "execution_count": 17,
   "id": "heated-operation",
   "metadata": {},
   "outputs": [],
   "source": [
    "def gcd_vec(lat_src, lng_src, lat_dst, lng_dst):\n",
    "    earth_radius_km = 6373\n",
    "    \n",
    "    theta_1 = np.deg2rad(90 - lat_src)\n",
    "    theta_2 = np.deg2rad(90 - lat_dst)\n",
    "    \n",
    "    omega_1 = np.deg2rad(lng_src)\n",
    "    omega_2 = np.deg2rad(lng_dst)\n",
    "    \n",
    "    cos = (np.sin(theta_1) * np.sin(theta_2) * np.cos(omega_1 - omega_2) +\n",
    "          np.cos(theta_1) * np.cos(theta_2))\n",
    "    \n",
    "    arc = np.arccos(cos)\n",
    "    \n",
    "    return arc * earth_radius_km"
   ]
  },
  {
   "cell_type": "code",
   "execution_count": 19,
   "id": "finnish-access",
   "metadata": {},
   "outputs": [
    {
     "name": "stdout",
     "output_type": "stream",
     "text": [
      "Wall time: 6.92 s\n"
     ]
    }
   ],
   "source": [
    "%%time\n",
    "r = pairs.apply(lambda x: gcd_py(x['LATITUDE_SRC'], x['LONGITUDE_SRC'], \n",
    "                                 x['LATITUDE_DST'], x['LATITUDE_DST']), axis=1)"
   ]
  },
  {
   "cell_type": "code",
   "execution_count": 20,
   "id": "broad-diana",
   "metadata": {},
   "outputs": [
    {
     "data": {
      "text/plain": [
       "origin  dest\n",
       "2CA     2CA     11658.209986\n",
       "        8F3     11805.567309\n",
       "        A08      9742.476890\n",
       "        A15      8152.546542\n",
       "        A27      8873.080964\n",
       "dtype: float64"
      ]
     },
     "execution_count": 20,
     "metadata": {},
     "output_type": "execute_result"
    }
   ],
   "source": [
    "r.head()"
   ]
  },
  {
   "cell_type": "code",
   "execution_count": 21,
   "id": "furnished-scanning",
   "metadata": {
    "scrolled": true
   },
   "outputs": [
    {
     "name": "stdout",
     "output_type": "stream",
     "text": [
      "Wall time: 1.04 s\n"
     ]
    },
    {
     "data": {
      "text/plain": [
       "origin  dest\n",
       "2CA     2CA        0.000000\n",
       "        8F3     1660.364858\n",
       "        A08     2578.473725\n",
       "        A15     4404.379276\n",
       "        A27     3624.913383\n",
       "                   ...     \n",
       "ZXO     ZLO     4763.710791\n",
       "        ZMD     9345.085453\n",
       "        ZNC     1622.875654\n",
       "        ZSL     6754.874826\n",
       "        ZXO        0.000000\n",
       "Length: 250000, dtype: float64"
      ]
     },
     "execution_count": 21,
     "metadata": {},
     "output_type": "execute_result"
    }
   ],
   "source": [
    "%%time\n",
    "pd.Series([gcd_py(*x) for x in pairs.itertuples(index=False)], index=pairs.index)"
   ]
  },
  {
   "cell_type": "code",
   "execution_count": 22,
   "id": "lined-johnston",
   "metadata": {},
   "outputs": [
    {
     "name": "stderr",
     "output_type": "stream",
     "text": [
      "<ipython-input-17-33ed6328afff>:13: RuntimeWarning: invalid value encountered in arccos\n",
      "  arc = np.arccos(cos)\n"
     ]
    },
    {
     "name": "stdout",
     "output_type": "stream",
     "text": [
      "Wall time: 4.78 s\n"
     ]
    },
    {
     "data": {
      "text/plain": [
       "origin  dest\n",
       "2CA     2CA        0.000095\n",
       "        8F3     1660.364741\n",
       "        A08     2578.473679\n",
       "        A15     4404.379250\n",
       "        A27     3624.913415\n",
       "                   ...     \n",
       "ZXO     ZLO     4763.710784\n",
       "        ZMD     9345.085432\n",
       "        ZNC     1622.875569\n",
       "        ZSL     6754.874795\n",
       "        ZXO        0.000134\n",
       "Length: 250000, dtype: float64"
      ]
     },
     "execution_count": 22,
     "metadata": {},
     "output_type": "execute_result"
    }
   ],
   "source": [
    "%%time\n",
    "pd.Series([gcd_vec(*x) for x in pairs.itertuples(index=False)], index=pairs.index)"
   ]
  },
  {
   "cell_type": "code",
   "execution_count": 23,
   "id": "surprising-spice",
   "metadata": {},
   "outputs": [
    {
     "name": "stdout",
     "output_type": "stream",
     "text": [
      "Wall time: 87 ms\n"
     ]
    },
    {
     "name": "stderr",
     "output_type": "stream",
     "text": [
      "c:\\users\\turntabl\\appdata\\local\\programs\\python\\python38\\lib\\site-packages\\pandas\\core\\arraylike.py:358: RuntimeWarning: invalid value encountered in arccos\n",
      "  result = getattr(ufunc, method)(*inputs, **kwargs)\n"
     ]
    }
   ],
   "source": [
    "%%time\n",
    "r = gcd_vec(pairs['LATITUDE_SRC'], pairs['LONGITUDE_SRC'],\n",
    "            pairs['LATITUDE_DST'], pairs['LONGITUDE_DST'])"
   ]
  },
  {
   "cell_type": "code",
   "execution_count": 24,
   "id": "occupational-gardening",
   "metadata": {},
   "outputs": [
    {
     "data": {
      "text/plain": [
       "origin  dest\n",
       "2CA     2CA        0.000095\n",
       "        8F3     1660.364741\n",
       "        A08     2578.473679\n",
       "        A15     4404.379250\n",
       "        A27     3624.913415\n",
       "                   ...     \n",
       "ZXO     ZLO     4763.710784\n",
       "        ZMD     9345.085432\n",
       "        ZNC     1622.875569\n",
       "        ZSL     6754.874795\n",
       "        ZXO        0.000134\n",
       "Length: 250000, dtype: float64"
      ]
     },
     "execution_count": 24,
     "metadata": {},
     "output_type": "execute_result"
    }
   ],
   "source": [
    "r"
   ]
  },
  {
   "cell_type": "code",
   "execution_count": null,
   "id": "prostate-messenger",
   "metadata": {},
   "outputs": [],
   "source": []
  }
 ],
 "metadata": {
  "kernelspec": {
   "display_name": "Python 3",
   "language": "python",
   "name": "python3"
  },
  "language_info": {
   "codemirror_mode": {
    "name": "ipython",
    "version": 3
   },
   "file_extension": ".py",
   "mimetype": "text/x-python",
   "name": "python",
   "nbconvert_exporter": "python",
   "pygments_lexer": "ipython3",
   "version": "3.8.6"
  }
 },
 "nbformat": 4,
 "nbformat_minor": 5
}
